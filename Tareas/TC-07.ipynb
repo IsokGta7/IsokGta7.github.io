{
  "nbformat": 4,
  "nbformat_minor": 0,
  "metadata": {
    "colab": {
      "provenance": [],
      "include_colab_link": true
    },
    "kernelspec": {
      "name": "python3",
      "display_name": "Python 3"
    },
    "language_info": {
      "name": "python"
    }
  },
  "cells": [
    {
      "cell_type": "markdown",
      "metadata": {
        "id": "view-in-github",
        "colab_type": "text"
      },
      "source": [
        "<a href=\"https://colab.research.google.com/github/IsokGta7/IsokGta7.github.io/blob/main/Tareas/TC-07.ipynb\" target=\"_parent\"><img src=\"https://colab.research.google.com/assets/colab-badge.svg\" alt=\"Open In Colab\"/></a>"
      ]
    },
    {
      "cell_type": "code",
      "source": [
        "!gdown 14nqDnZ3oDXqRtIcrpB6IP1f_NZP_Gb08"
      ],
      "metadata": {
        "id": "hjx2OkfMi6HG",
        "outputId": "ac558cfc-34bb-48fb-eea0-21868e3b85cd",
        "colab": {
          "base_uri": "https://localhost:8080/"
        }
      },
      "execution_count": 1,
      "outputs": [
        {
          "output_type": "stream",
          "name": "stdout",
          "text": [
            "Downloading...\n",
            "From: https://drive.google.com/uc?id=14nqDnZ3oDXqRtIcrpB6IP1f_NZP_Gb08\n",
            "To: /content/YoutubeCommentsDataSet.csv\n",
            "\r  0% 0.00/2.57M [00:00<?, ?B/s]\r100% 2.57M/2.57M [00:00<00:00, 65.2MB/s]\n"
          ]
        }
      ]
    },
    {
      "cell_type": "code",
      "source": [
        "import pandas as pd\n",
        "\n",
        "df = pd.read_csv('YoutubeCommentsDataSet.csv',index_col=0)"
      ],
      "metadata": {
        "id": "lLb2ZCq8lVtB"
      },
      "execution_count": 2,
      "outputs": []
    },
    {
      "cell_type": "markdown",
      "source": [
        "# Trabajo en clase\n",
        "\n",
        "En esta práctica, exploraremos dos métodos comunes para vectorizar textos en el NLP: **Bag of Words (BOW)** y **TF-IDF**. Utilizaremos implementaciones de `scikit-learn` para llevar a cabo la vectorización y entrenaremos un clasificador para realizar análisis de sentimientos. El objetivo es comparar el rendimiento de ambos métodos bajo diferentes configuraciones.\n",
        "\n",
        "## Instrucciones\n",
        "\n",
        "1. **Preprocesamiento y análisis exploratorio**:\n",
        "   - Realiza la limpieza de los textos que consideres necesario.\n",
        "   - Elimina stopwords si lo consideras necesario.\n",
        "   - Realiza un análisis exploratorio de los datos: distribución de clases, longitud de textos, palabras más frecuentes (puedes usar una nube de palabras o mostrar las palabras más frecuentes por clase).\n",
        "\n",
        "2. **Vectorización de textos**:\n",
        "   - **BOW**: Usa `CountVectorizer` de `scikit-learn` para vectorizar los textos. Prueba con tres valores de `max_features` en órdenes de magnitud distintos.\n",
        "   - **TF-IDF**: Usa `TfidfVectorizer` de `scikit-learn` para vectorizar los textos. Prueba con los mismos tres valores de `max_features` que usaste para BOW.\n",
        "\n",
        "3. **Entrenamiento del clasificador**: Elige un clasificador (por ejemplo, `LogisticRegression`, `DecisionTree`, `Naive Bayes`, etc.) y entrénalo utilizando los datos vectorizados tanto con BOW como con TF-IDF. Cuida los aspectos relacionados con el *data leakage*.\n",
        "\n",
        "4. **Evaluación y reporte**: Para cada combinación de método de vectorización (BOW y TF-IDF) y valor de `max_features`, calcula el F1-score. Reporta los resultados en una tabla como la siguiente:\n",
        "\n",
        "| Método  | max_features | F1-score |\n",
        "|---------|--------------|----------|\n",
        "| BOW     | valor1          |          |\n",
        "| BOW     | valor2         |          |\n",
        "| BOW     | valor3        |          |\n",
        "| TF-IDF  | valor1          |          |\n",
        "| TF-IDF  | valor2         |          |\n",
        "| TF-IDF  | valor3        |          |\n",
        "\n",
        "5. **Conclusiones**: Responde las siguientes preguntas en una celda de texto:\n",
        "   - ¿Cuál método de vectorización (BOW o TF-IDF) obtuvo mejores resultados en general? ¿qué combinación de vectorización y valor de `max_features` produjo el mejor resultado.\n",
        "   - ¿Cómo afecta el valor de `max_features` al rendimiento del modelo?\n",
        "   - ¿Qué estrategias adicionales consideras que podrían mejorar el rendimiento de tu modelo? Describe dos de estas estrategias. **Importante**: Cada estrategia debe ser con BOW/TF-IDF.  \n",
        "   - Describe el proprocesamiento que hiciste en el paso 1."
      ],
      "metadata": {
        "id": "7CNTWPH1lbMt"
      }
    },
    {
      "cell_type": "code",
      "source": [
        "#Importamos todas las librerias\n",
        "import pandas as pd\n",
        "import re\n",
        "import nltk\n",
        "from nltk.corpus import stopwords\n",
        "from sklearn.feature_extraction.text import CountVectorizer, TfidfVectorizer\n",
        "from sklearn.linear_model import LogisticRegression\n",
        "from sklearn.pipeline import Pipeline\n",
        "from sklearn.metrics import f1_score\n",
        "from sklearn.model_selection import train_test_split\n",
        "import matplotlib.pyplot as plt\n",
        "import seaborn as sns\n"
      ],
      "metadata": {
        "id": "XamWG1GmlYvZ"
      },
      "execution_count": 19,
      "outputs": []
    },
    {
      "cell_type": "code",
      "source": [
        "#Descargo los stop words de una vez\n",
        "nltk.download('stopwords')\n"
      ],
      "metadata": {
        "id": "CqfHQ01a7W-L",
        "outputId": "2c21b97d-687e-49d0-a42e-8ca1b2d343ac",
        "colab": {
          "base_uri": "https://localhost:8080/"
        }
      },
      "execution_count": 5,
      "outputs": [
        {
          "output_type": "stream",
          "name": "stderr",
          "text": [
            "[nltk_data] Downloading package stopwords to /root/nltk_data...\n",
            "[nltk_data]   Unzipping corpora/stopwords.zip.\n"
          ]
        },
        {
          "output_type": "execute_result",
          "data": {
            "text/plain": [
              "True"
            ]
          },
          "metadata": {},
          "execution_count": 5
        }
      ]
    },
    {
      "cell_type": "code",
      "source": [
        "#Mostramos el head\n",
        "df.head()"
      ],
      "metadata": {
        "id": "QRZPcBzb7sld",
        "outputId": "10e91964-4a35-4507-ebb9-741b8111bdd2",
        "colab": {
          "base_uri": "https://localhost:8080/",
          "height": 206
        }
      },
      "execution_count": 7,
      "outputs": [
        {
          "output_type": "execute_result",
          "data": {
            "text/plain": [
              "                                             Comment Sentiment\n",
              "1  here in nz 50 of retailers don’t even have con...  negative\n",
              "2  i will forever acknowledge this channel with t...  positive\n",
              "3  whenever i go to a place that doesn’t take app...  negative\n",
              "4  apple pay is so convenient secure and easy to ...  positive\n",
              "6  we only got apple pay in south africa in 20202...  positive"
            ],
            "text/html": [
              "\n",
              "  <div id=\"df-45339a7c-9edf-4d56-a913-2cfe8ddf44e7\" class=\"colab-df-container\">\n",
              "    <div>\n",
              "<style scoped>\n",
              "    .dataframe tbody tr th:only-of-type {\n",
              "        vertical-align: middle;\n",
              "    }\n",
              "\n",
              "    .dataframe tbody tr th {\n",
              "        vertical-align: top;\n",
              "    }\n",
              "\n",
              "    .dataframe thead th {\n",
              "        text-align: right;\n",
              "    }\n",
              "</style>\n",
              "<table border=\"1\" class=\"dataframe\">\n",
              "  <thead>\n",
              "    <tr style=\"text-align: right;\">\n",
              "      <th></th>\n",
              "      <th>Comment</th>\n",
              "      <th>Sentiment</th>\n",
              "    </tr>\n",
              "  </thead>\n",
              "  <tbody>\n",
              "    <tr>\n",
              "      <th>1</th>\n",
              "      <td>here in nz 50 of retailers don’t even have con...</td>\n",
              "      <td>negative</td>\n",
              "    </tr>\n",
              "    <tr>\n",
              "      <th>2</th>\n",
              "      <td>i will forever acknowledge this channel with t...</td>\n",
              "      <td>positive</td>\n",
              "    </tr>\n",
              "    <tr>\n",
              "      <th>3</th>\n",
              "      <td>whenever i go to a place that doesn’t take app...</td>\n",
              "      <td>negative</td>\n",
              "    </tr>\n",
              "    <tr>\n",
              "      <th>4</th>\n",
              "      <td>apple pay is so convenient secure and easy to ...</td>\n",
              "      <td>positive</td>\n",
              "    </tr>\n",
              "    <tr>\n",
              "      <th>6</th>\n",
              "      <td>we only got apple pay in south africa in 20202...</td>\n",
              "      <td>positive</td>\n",
              "    </tr>\n",
              "  </tbody>\n",
              "</table>\n",
              "</div>\n",
              "    <div class=\"colab-df-buttons\">\n",
              "\n",
              "  <div class=\"colab-df-container\">\n",
              "    <button class=\"colab-df-convert\" onclick=\"convertToInteractive('df-45339a7c-9edf-4d56-a913-2cfe8ddf44e7')\"\n",
              "            title=\"Convert this dataframe to an interactive table.\"\n",
              "            style=\"display:none;\">\n",
              "\n",
              "  <svg xmlns=\"http://www.w3.org/2000/svg\" height=\"24px\" viewBox=\"0 -960 960 960\">\n",
              "    <path d=\"M120-120v-720h720v720H120Zm60-500h600v-160H180v160Zm220 220h160v-160H400v160Zm0 220h160v-160H400v160ZM180-400h160v-160H180v160Zm440 0h160v-160H620v160ZM180-180h160v-160H180v160Zm440 0h160v-160H620v160Z\"/>\n",
              "  </svg>\n",
              "    </button>\n",
              "\n",
              "  <style>\n",
              "    .colab-df-container {\n",
              "      display:flex;\n",
              "      gap: 12px;\n",
              "    }\n",
              "\n",
              "    .colab-df-convert {\n",
              "      background-color: #E8F0FE;\n",
              "      border: none;\n",
              "      border-radius: 50%;\n",
              "      cursor: pointer;\n",
              "      display: none;\n",
              "      fill: #1967D2;\n",
              "      height: 32px;\n",
              "      padding: 0 0 0 0;\n",
              "      width: 32px;\n",
              "    }\n",
              "\n",
              "    .colab-df-convert:hover {\n",
              "      background-color: #E2EBFA;\n",
              "      box-shadow: 0px 1px 2px rgba(60, 64, 67, 0.3), 0px 1px 3px 1px rgba(60, 64, 67, 0.15);\n",
              "      fill: #174EA6;\n",
              "    }\n",
              "\n",
              "    .colab-df-buttons div {\n",
              "      margin-bottom: 4px;\n",
              "    }\n",
              "\n",
              "    [theme=dark] .colab-df-convert {\n",
              "      background-color: #3B4455;\n",
              "      fill: #D2E3FC;\n",
              "    }\n",
              "\n",
              "    [theme=dark] .colab-df-convert:hover {\n",
              "      background-color: #434B5C;\n",
              "      box-shadow: 0px 1px 3px 1px rgba(0, 0, 0, 0.15);\n",
              "      filter: drop-shadow(0px 1px 2px rgba(0, 0, 0, 0.3));\n",
              "      fill: #FFFFFF;\n",
              "    }\n",
              "  </style>\n",
              "\n",
              "    <script>\n",
              "      const buttonEl =\n",
              "        document.querySelector('#df-45339a7c-9edf-4d56-a913-2cfe8ddf44e7 button.colab-df-convert');\n",
              "      buttonEl.style.display =\n",
              "        google.colab.kernel.accessAllowed ? 'block' : 'none';\n",
              "\n",
              "      async function convertToInteractive(key) {\n",
              "        const element = document.querySelector('#df-45339a7c-9edf-4d56-a913-2cfe8ddf44e7');\n",
              "        const dataTable =\n",
              "          await google.colab.kernel.invokeFunction('convertToInteractive',\n",
              "                                                    [key], {});\n",
              "        if (!dataTable) return;\n",
              "\n",
              "        const docLinkHtml = 'Like what you see? Visit the ' +\n",
              "          '<a target=\"_blank\" href=https://colab.research.google.com/notebooks/data_table.ipynb>data table notebook</a>'\n",
              "          + ' to learn more about interactive tables.';\n",
              "        element.innerHTML = '';\n",
              "        dataTable['output_type'] = 'display_data';\n",
              "        await google.colab.output.renderOutput(dataTable, element);\n",
              "        const docLink = document.createElement('div');\n",
              "        docLink.innerHTML = docLinkHtml;\n",
              "        element.appendChild(docLink);\n",
              "      }\n",
              "    </script>\n",
              "  </div>\n",
              "\n",
              "\n",
              "<div id=\"df-14396c6f-03ef-4675-8b9c-ebaba224902e\">\n",
              "  <button class=\"colab-df-quickchart\" onclick=\"quickchart('df-14396c6f-03ef-4675-8b9c-ebaba224902e')\"\n",
              "            title=\"Suggest charts\"\n",
              "            style=\"display:none;\">\n",
              "\n",
              "<svg xmlns=\"http://www.w3.org/2000/svg\" height=\"24px\"viewBox=\"0 0 24 24\"\n",
              "     width=\"24px\">\n",
              "    <g>\n",
              "        <path d=\"M19 3H5c-1.1 0-2 .9-2 2v14c0 1.1.9 2 2 2h14c1.1 0 2-.9 2-2V5c0-1.1-.9-2-2-2zM9 17H7v-7h2v7zm4 0h-2V7h2v10zm4 0h-2v-4h2v4z\"/>\n",
              "    </g>\n",
              "</svg>\n",
              "  </button>\n",
              "\n",
              "<style>\n",
              "  .colab-df-quickchart {\n",
              "      --bg-color: #E8F0FE;\n",
              "      --fill-color: #1967D2;\n",
              "      --hover-bg-color: #E2EBFA;\n",
              "      --hover-fill-color: #174EA6;\n",
              "      --disabled-fill-color: #AAA;\n",
              "      --disabled-bg-color: #DDD;\n",
              "  }\n",
              "\n",
              "  [theme=dark] .colab-df-quickchart {\n",
              "      --bg-color: #3B4455;\n",
              "      --fill-color: #D2E3FC;\n",
              "      --hover-bg-color: #434B5C;\n",
              "      --hover-fill-color: #FFFFFF;\n",
              "      --disabled-bg-color: #3B4455;\n",
              "      --disabled-fill-color: #666;\n",
              "  }\n",
              "\n",
              "  .colab-df-quickchart {\n",
              "    background-color: var(--bg-color);\n",
              "    border: none;\n",
              "    border-radius: 50%;\n",
              "    cursor: pointer;\n",
              "    display: none;\n",
              "    fill: var(--fill-color);\n",
              "    height: 32px;\n",
              "    padding: 0;\n",
              "    width: 32px;\n",
              "  }\n",
              "\n",
              "  .colab-df-quickchart:hover {\n",
              "    background-color: var(--hover-bg-color);\n",
              "    box-shadow: 0 1px 2px rgba(60, 64, 67, 0.3), 0 1px 3px 1px rgba(60, 64, 67, 0.15);\n",
              "    fill: var(--button-hover-fill-color);\n",
              "  }\n",
              "\n",
              "  .colab-df-quickchart-complete:disabled,\n",
              "  .colab-df-quickchart-complete:disabled:hover {\n",
              "    background-color: var(--disabled-bg-color);\n",
              "    fill: var(--disabled-fill-color);\n",
              "    box-shadow: none;\n",
              "  }\n",
              "\n",
              "  .colab-df-spinner {\n",
              "    border: 2px solid var(--fill-color);\n",
              "    border-color: transparent;\n",
              "    border-bottom-color: var(--fill-color);\n",
              "    animation:\n",
              "      spin 1s steps(1) infinite;\n",
              "  }\n",
              "\n",
              "  @keyframes spin {\n",
              "    0% {\n",
              "      border-color: transparent;\n",
              "      border-bottom-color: var(--fill-color);\n",
              "      border-left-color: var(--fill-color);\n",
              "    }\n",
              "    20% {\n",
              "      border-color: transparent;\n",
              "      border-left-color: var(--fill-color);\n",
              "      border-top-color: var(--fill-color);\n",
              "    }\n",
              "    30% {\n",
              "      border-color: transparent;\n",
              "      border-left-color: var(--fill-color);\n",
              "      border-top-color: var(--fill-color);\n",
              "      border-right-color: var(--fill-color);\n",
              "    }\n",
              "    40% {\n",
              "      border-color: transparent;\n",
              "      border-right-color: var(--fill-color);\n",
              "      border-top-color: var(--fill-color);\n",
              "    }\n",
              "    60% {\n",
              "      border-color: transparent;\n",
              "      border-right-color: var(--fill-color);\n",
              "    }\n",
              "    80% {\n",
              "      border-color: transparent;\n",
              "      border-right-color: var(--fill-color);\n",
              "      border-bottom-color: var(--fill-color);\n",
              "    }\n",
              "    90% {\n",
              "      border-color: transparent;\n",
              "      border-bottom-color: var(--fill-color);\n",
              "    }\n",
              "  }\n",
              "</style>\n",
              "\n",
              "  <script>\n",
              "    async function quickchart(key) {\n",
              "      const quickchartButtonEl =\n",
              "        document.querySelector('#' + key + ' button');\n",
              "      quickchartButtonEl.disabled = true;  // To prevent multiple clicks.\n",
              "      quickchartButtonEl.classList.add('colab-df-spinner');\n",
              "      try {\n",
              "        const charts = await google.colab.kernel.invokeFunction(\n",
              "            'suggestCharts', [key], {});\n",
              "      } catch (error) {\n",
              "        console.error('Error during call to suggestCharts:', error);\n",
              "      }\n",
              "      quickchartButtonEl.classList.remove('colab-df-spinner');\n",
              "      quickchartButtonEl.classList.add('colab-df-quickchart-complete');\n",
              "    }\n",
              "    (() => {\n",
              "      let quickchartButtonEl =\n",
              "        document.querySelector('#df-14396c6f-03ef-4675-8b9c-ebaba224902e button');\n",
              "      quickchartButtonEl.style.display =\n",
              "        google.colab.kernel.accessAllowed ? 'block' : 'none';\n",
              "    })();\n",
              "  </script>\n",
              "</div>\n",
              "\n",
              "    </div>\n",
              "  </div>\n"
            ],
            "application/vnd.google.colaboratory.intrinsic+json": {
              "type": "dataframe",
              "variable_name": "df",
              "summary": "{\n  \"name\": \"df\",\n  \"rows\": 13770,\n  \"fields\": [\n    {\n      \"column\": \"Comment\",\n      \"properties\": {\n        \"dtype\": \"string\",\n        \"num_unique_values\": 13371,\n        \"samples\": [\n          \"i love how he teaches multiple coding languages the same it makes learning them a lot easier and quicker to understand\",\n          \"its also difficult to get someone to tell the truth when his salary depends on him lying\",\n          \"essa \\u00e9 top demais \"\n        ],\n        \"semantic_type\": \"\",\n        \"description\": \"\"\n      }\n    },\n    {\n      \"column\": \"Sentiment\",\n      \"properties\": {\n        \"dtype\": \"category\",\n        \"num_unique_values\": 2,\n        \"samples\": [\n          \"positive\",\n          \"negative\"\n        ],\n        \"semantic_type\": \"\",\n        \"description\": \"\"\n      }\n    }\n  ]\n}"
            }
          },
          "metadata": {},
          "execution_count": 7
        }
      ]
    },
    {
      "cell_type": "code",
      "source": [
        "#Limpio valores nulos\n",
        "df.dropna(subset=['Comment', 'Sentiment'], inplace=True)"
      ],
      "metadata": {
        "id": "UTKaaAPp7fXe"
      },
      "execution_count": 8,
      "outputs": []
    },
    {
      "cell_type": "code",
      "source": [
        "# Limpieza de stop words\n",
        "stop_words = set(stopwords.words('english'))\n",
        "def clean_text(text):\n",
        "    text = text.lower()\n",
        "    text = re.sub(r'[^a-zA-Z\\s]', '', text)\n",
        "    text = re.sub(r'\\s+', ' ', text).strip()\n",
        "    words = text.split()\n",
        "    words = [w for w in words if w not in stop_words]\n",
        "    return ' '.join(words)\n",
        "df['Limpio'] = df['Comment'].apply(clean_text)"
      ],
      "metadata": {
        "id": "VQt4ilYY7omp"
      },
      "execution_count": 10,
      "outputs": []
    },
    {
      "cell_type": "code",
      "source": [
        "# Análisis exploratorio\n",
        "print(\"Distribución de clases:\")\n",
        "print(df['Sentiment'].value_counts())"
      ],
      "metadata": {
        "id": "K7ej_7Rz-e3B",
        "outputId": "375f40f6-fbd1-4122-98ef-f3b7e2f733a8",
        "colab": {
          "base_uri": "https://localhost:8080/"
        }
      },
      "execution_count": 11,
      "outputs": [
        {
          "output_type": "stream",
          "name": "stdout",
          "text": [
            "Distribución de clases:\n",
            "Sentiment\n",
            "positive    11402\n",
            "negative     2337\n",
            "Name: count, dtype: int64\n"
          ]
        }
      ]
    },
    {
      "cell_type": "code",
      "source": [
        "# Longitud de textos\n",
        "df['Text_Length'] = df['Limpio'].apply(lambda x: len(x.split()))\n",
        "print(\"\\nEstadísticas de longitud:\")\n",
        "print(df['Text_Length'].describe())\n"
      ],
      "metadata": {
        "id": "uUhsU0hL-f6l",
        "outputId": "b55617fc-32df-4891-e156-39f3bd5046c3",
        "colab": {
          "base_uri": "https://localhost:8080/"
        }
      },
      "execution_count": 13,
      "outputs": [
        {
          "output_type": "stream",
          "name": "stdout",
          "text": [
            "\n",
            "Estadísticas de longitud:\n",
            "count    13739.000000\n",
            "mean        16.901667\n",
            "std         19.281017\n",
            "min          0.000000\n",
            "25%          7.000000\n",
            "50%         12.000000\n",
            "75%         20.000000\n",
            "max        485.000000\n",
            "Name: Text_Length, dtype: float64\n"
          ]
        }
      ]
    },
    {
      "cell_type": "code",
      "source": [
        "# Palabras más frecuentes por clase\n",
        "def plot_word_frequency(df, sentiment, color):\n",
        "    words = ' '.join(df[df['Sentiment'] == sentiment]['Limpio']).split()\n",
        "    freq_dist = nltk.FreqDist(words)\n",
        "    plt.figure(figsize=(10, 4))\n",
        "    freq_dist.plot(20, title=f'Top 20 palabras - {sentiment}', color=color)"
      ],
      "metadata": {
        "id": "eSe4cRO0-iQF"
      },
      "execution_count": 17,
      "outputs": []
    },
    {
      "cell_type": "code",
      "source": [
        "#Tablas\n",
        "plot_word_frequency(df, 'positive', 'green')\n",
        "plot_word_frequency(df, 'negative', 'red')\n",
        "plt.show()"
      ],
      "metadata": {
        "id": "E2s45hN2-mKC",
        "outputId": "41c6e67d-4b64-4b0f-81e1-03478845edd5",
        "colab": {
          "base_uri": "https://localhost:8080/",
          "height": 882
        }
      },
      "execution_count": 20,
      "outputs": [
        {
          "output_type": "display_data",
          "data": {
            "text/plain": [
              "<Figure size 1000x400 with 1 Axes>"
            ],
            "image/png": "[encoded data removed]"
          },
          "metadata": {}
        },
        {
          "output_type": "display_data",
          "data": {
            "text/plain": [
              "<Figure size 1000x400 with 1 Axes>"
            ],
            "image/png": "[encoded data removed]"
          },
          "metadata": {}
        }
      ]
    },
    {
      "cell_type": "code",
      "source": [
        "# 2. Vectorización de textos\n",
        "# --------------------------\n",
        "X = df['Limpio']\n",
        "y = df['Sentiment']\n",
        "X_train, X_test, y_train, y_test = train_test_split(X, y, test_size=0.2, random_state=42)\n",
        "\n",
        "max_features_list = [100, 1000, 10000]\n",
        "results = []"
      ],
      "metadata": {
        "id": "ZfvKtyrh-n4H"
      },
      "execution_count": 22,
      "outputs": []
    },
    {
      "cell_type": "code",
      "source": [
        "# 3. Entrenamiento y evaluación\n",
        "# ------------------------------\n",
        "for max_feat in max_features_list:\n",
        "    # BOW\n",
        "    bow_pipe = Pipeline([\n",
        "        ('vectorizer', CountVectorizer(max_features=max_feat)),\n",
        "        ('classifier', LogisticRegression(max_iter=1000))\n",
        "    ])\n",
        "    bow_pipe.fit(X_train, y_train)\n",
        "    y_pred = bow_pipe.predict(X_test)\n",
        "    f1_bow = f1_score(y_test, y_pred, average='weighted')\n",
        "    results.append({'Método': 'BOW', 'max_features': max_feat, 'F1-score': f1_bow})\n",
        "\n",
        "    # TF-IDF\n",
        "    tfidf_pipe = Pipeline([\n",
        "        ('vectorizer', TfidfVectorizer(max_features=max_feat)),\n",
        "        ('classifier', LogisticRegression(max_iter=1000))\n",
        "    ])\n",
        "    tfidf_pipe.fit(X_train, y_train)\n",
        "    y_pred = tfidf_pipe.predict(X_test)\n",
        "    f1_tfidf = f1_score(y_test, y_pred, average='weighted')\n",
        "    results.append({'Método': 'TF-IDF', 'max_features': max_feat, 'F1-score': f1_tfidf})\n"
      ],
      "metadata": {
        "id": "fqRFnucvBsD6"
      },
      "execution_count": 23,
      "outputs": []
    },
    {
      "cell_type": "code",
      "source": [
        "# 4. Resultados\n",
        "# -------------\n",
        "results_df = pd.DataFrame(results)\n",
        "print(\"\\nResultados finales:\")\n",
        "print(results_df.to_markdown(index=False))"
      ],
      "metadata": {
        "id": "ifZRrq3BBwbg",
        "outputId": "02b13c69-e6d2-4f00-80a7-20cb5a79a4de",
        "colab": {
          "base_uri": "https://localhost:8080/"
        }
      },
      "execution_count": 24,
      "outputs": [
        {
          "output_type": "stream",
          "name": "stdout",
          "text": [
            "\n",
            "Resultados finales:\n",
            "| Método   |   max_features |   F1-score |\n",
            "|:---------|---------------:|-----------:|\n",
            "| BOW      |            100 |   0.801106 |\n",
            "| TF-IDF   |            100 |   0.800954 |\n",
            "| BOW      |           1000 |   0.857816 |\n",
            "| TF-IDF   |           1000 |   0.850008 |\n",
            "| BOW      |          10000 |   0.88654  |\n",
            "| TF-IDF   |          10000 |   0.845037 |\n"
          ]
        }
      ]
    },
    {
      "cell_type": "markdown",
      "source": [
        "**Conclusiones:**\n",
        "\n",
        "1. **Rendimiento comparativo:**\n",
        "En general, TF-IDF y BOW tuvieron resultados casi identicos. La mejor combinación fue BOW con max_features=10000 (F1-score=0.88).\n",
        "\n",
        "2. **Impacto de max_features:**\n",
        "Mayores valores de max_features mejoran el rendimiento hasta cierto punto (de 100 a 10000 features), ya que capturan más información léxica. Sin embargo, incrementan la dimensionalidad y tiempo de cómputo.\n",
        "\n",
        "3. **Estrategias de mejora:**\n",
        "   - **Uso de n-gramas:** Implementar bigramas/trigramas para capturar contexto.\n",
        "   - **Filtrado por frecuencia:** Usar min_df/max_df para eliminar términos muy raros o comunes\n",
        "\n",
        "4. **Preprocesamiento realizado:**\n",
        "   - Normalización a minúsculas\n",
        "   - Eliminación de caracteres no alfabéticos y números\n",
        "   - Remoción de stopwords en inglés\n",
        "   - Normalización de espacios en blanco\n",
        "\"\"\""
      ],
      "metadata": {
        "id": "_O1oS6paB2Q1"
      }
    },
    {
      "cell_type": "code",
      "source": [],
      "metadata": {
        "id": "EnayOjoRBzKx"
      },
      "execution_count": null,
      "outputs": []
    }
  ]
}